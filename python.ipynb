{
  "nbformat": 4,
  "nbformat_minor": 0,
  "metadata": {
    "colab": {
      "provenance": [],
      "authorship_tag": "ABX9TyO2CYsOsOXyKM1Lvij4kJZn",
      "include_colab_link": true
    },
    "kernelspec": {
      "name": "python3",
      "display_name": "Python 3"
    },
    "language_info": {
      "name": "python"
    }
  },
  "cells": [
    {
      "cell_type": "markdown",
      "metadata": {
        "id": "view-in-github",
        "colab_type": "text"
      },
      "source": [
        "<a href=\"https://colab.research.google.com/github/zibamursalova18/resume/blob/main/python.ipynb\" target=\"_parent\"><img src=\"https://colab.research.google.com/assets/colab-badge.svg\" alt=\"Open In Colab\"/></a>"
      ]
    },
    {
      "cell_type": "code",
      "source": [
        "count=0\n",
        "total=0\n",
        "max_num=None\n",
        "min_num=None\n",
        "numbers=[]\n",
        "while True:\n",
        "  x=input(\"Enter the numbers:\")\n",
        "  if x==\"done\":\n",
        "    break\n",
        "  x = int(x)\n",
        "  numbers.append(x)\n",
        "  count=count+1\n",
        "  total=total+x\n",
        "\n",
        "  if count>0:\n",
        "    print(f\"Count is: {count}\")\n",
        "\n",
        "  if max_num is None or x > max_num:\n",
        "    max_num = x\n",
        "\n",
        "  if min_num is None or x<min_num:\n",
        "    min_num = x\n",
        "\n",
        "\n",
        "\n",
        "def average(x,y):\n",
        "  ave=total/count\n",
        "  print(ave)\n",
        "\n",
        "average(total,count)\n",
        "\n",
        "def max_value(m):\n",
        "    if max_num is None:\n",
        "        print(\"No numbers were entered.\")\n",
        "    else:\n",
        "        print(f\"Maximum: {max_num}\")\n",
        "\n",
        "max_value(max_num)\n",
        "\n",
        "def min_value():\n",
        "  if min_num is None:\n",
        "    print(\"No numbers were entered.\")\n",
        "  else:\n",
        "    print(f\"Minimum: {min_num}\")\n",
        "\n",
        "min_value()\n",
        "\n",
        "def median_value():\n",
        "    if count == 0:\n",
        "        print(\"No numbers were entered.\")\n",
        "    else:\n",
        "        numbers.sort()\n",
        "        n = len(numbers)\n",
        "    if n % 2 == 0:\n",
        "            # If even number of elements, take the average of the middle two\n",
        "     median_num = (numbers[n // 2 - 1] + numbers[n // 2]) / 2\n",
        "    else:\n",
        "            # If odd number of elements, take the middle element\n",
        "     median_num = numbers[n // 2]\n",
        "    print(f\"Median: {median_num}\")\n",
        "median_value()\n",
        "\n"
      ],
      "metadata": {
        "id": "AjXoIb_O4ZrQ"
      },
      "execution_count": null,
      "outputs": []
    },
    {
      "cell_type": "code",
      "source": [
        "count_odd=0\n",
        "count_even=0\n",
        "numbers_odd=[]\n",
        "numbers_even=[]\n",
        "while True:\n",
        "  n=int(input(\"Enter integer numbers: \"))\n",
        "  if n%2==0:\n",
        "    count_even=count_even+1\n",
        "    numbers_even.append(n)\n",
        "  if n%2!=0:\n",
        "    count_odd=count_odd+1\n",
        "    numbers_odd.append(n)\n",
        "  if count>0:\n",
        "    print(f\"Count is: {count}\")\n",
        "\n",
        "  print (numbers_odd,count_odd)\n",
        "  print (numbers_even,count_even)\n",
        "\n",
        "  def odd_numbers():\n",
        "    if count_odd==0:\n",
        "      print(\"No odd numbers were entered.\")\n",
        "    else:\n",
        "      print(f\"Odd numbers: {numbers_odd}\")\n",
        "  def even_numbers():\n",
        "    if count_even==0:\n",
        "      print(\"No even numbers were entered.\")\n",
        "    else:\n",
        "      print(f\"Even numbers: {numbers_even}\")\n",
        "\n",
        "\n",
        "odd_numbers()\n",
        "even_numbers()\n",
        "\n",
        "\n",
        "\n"
      ],
      "metadata": {
        "colab": {
          "base_uri": "https://localhost:8080/",
          "height": 280
        },
        "id": "IMxwuAAx4MX6",
        "outputId": "bf671f8a-7d35-4a33-f62f-4ff52007901d"
      },
      "execution_count": null,
      "outputs": [
        {
          "name": "stdout",
          "output_type": "stream",
          "text": [
            "Enter integer numbers: 8\n",
            "[] 0\n",
            "[8] 1\n",
            "Enter integer numbers: 9.7\n"
          ]
        },
        {
          "output_type": "error",
          "ename": "ValueError",
          "evalue": "invalid literal for int() with base 10: '9.7'",
          "traceback": [
            "\u001b[0;31m---------------------------------------------------------------------------\u001b[0m",
            "\u001b[0;31mValueError\u001b[0m                                Traceback (most recent call last)",
            "\u001b[0;32m<ipython-input-26-179ccd68880e>\u001b[0m in \u001b[0;36m<cell line: 5>\u001b[0;34m()\u001b[0m\n\u001b[1;32m      4\u001b[0m \u001b[0mnumbers_even\u001b[0m\u001b[0;34m=\u001b[0m\u001b[0;34m[\u001b[0m\u001b[0;34m]\u001b[0m\u001b[0;34m\u001b[0m\u001b[0;34m\u001b[0m\u001b[0m\n\u001b[1;32m      5\u001b[0m \u001b[0;32mwhile\u001b[0m \u001b[0;32mTrue\u001b[0m\u001b[0;34m:\u001b[0m\u001b[0;34m\u001b[0m\u001b[0;34m\u001b[0m\u001b[0m\n\u001b[0;32m----> 6\u001b[0;31m   \u001b[0mn\u001b[0m\u001b[0;34m=\u001b[0m\u001b[0mint\u001b[0m\u001b[0;34m(\u001b[0m\u001b[0minput\u001b[0m\u001b[0;34m(\u001b[0m\u001b[0;34m\"Enter integer numbers: \"\u001b[0m\u001b[0;34m)\u001b[0m\u001b[0;34m)\u001b[0m\u001b[0;34m\u001b[0m\u001b[0;34m\u001b[0m\u001b[0m\n\u001b[0m\u001b[1;32m      7\u001b[0m   \u001b[0;32mif\u001b[0m \u001b[0mn\u001b[0m\u001b[0;34m%\u001b[0m\u001b[0;36m2\u001b[0m\u001b[0;34m==\u001b[0m\u001b[0;36m0\u001b[0m\u001b[0;34m:\u001b[0m\u001b[0;34m\u001b[0m\u001b[0;34m\u001b[0m\u001b[0m\n\u001b[1;32m      8\u001b[0m     \u001b[0mcount_even\u001b[0m\u001b[0;34m=\u001b[0m\u001b[0mcount_even\u001b[0m\u001b[0;34m+\u001b[0m\u001b[0;36m1\u001b[0m\u001b[0;34m\u001b[0m\u001b[0;34m\u001b[0m\u001b[0m\n",
            "\u001b[0;31mValueError\u001b[0m: invalid literal for int() with base 10: '9.7'"
          ]
        }
      ]
    },
    {
      "cell_type": "code",
      "source": [
        "class PersonAccount:\n",
        "  def __init__(self, firstname,lastname, incomes, expenses):\n",
        "    self.firstname = firstname\n",
        "    self.lastname = lastname\n",
        "    self.incomes = []\n",
        "    self.expenses = []\n",
        "\n",
        "  def add_income(self, income):\n",
        "    self.incomes.append(income)\n",
        "\n",
        "  def add_expense(self, expense):\n",
        "    self.expenses.append(expense)\n",
        "\n",
        "  def total_income(self):\n",
        "    return sum(self.incomes)\n",
        "\n",
        "  def total_expense(self):\n",
        "    return sum(self.expenses)\n",
        "\n",
        "  def account_balace(self):\n",
        "    return self.total_income()-self.total_expense()\n",
        "\n",
        "  def account_info(self):\n",
        "    print(f\"Name: {self.firstname} {self.lastname}\")\n",
        "    print(f\"Incomes: {self.incomes}\")\n",
        "    print(f\"Expenses: {self.expenses}\")\n",
        "\n",
        "account_1 = PersonAccount(\"Ziba\", \"Mursalova\", int(input(\"What is income? \")), int(input(\"What is expenses? \")))\n",
        "print(account_1.firstname)\n",
        "print(account_1.lastname)\n",
        "print(account_1.incomes)\n",
        "print(account_1.expenses)\n",
        "print(account_1.total_income())"
      ],
      "metadata": {
        "colab": {
          "base_uri": "https://localhost:8080/"
        },
        "id": "8jbUOGapfxMM",
        "outputId": "f2da9424-391c-454b-8c28-66fa4ade8ed5"
      },
      "execution_count": null,
      "outputs": [
        {
          "output_type": "stream",
          "name": "stdout",
          "text": [
            "What is income? 55\n",
            "What is expenses? 7\n",
            "Ziba\n",
            "Mursalova\n",
            "[]\n",
            "[]\n",
            "0\n"
          ]
        }
      ]
    },
    {
      "cell_type": "code",
      "source": [
        "name=input(\"Enter a string: \")\n",
        "length=len(name)\n",
        "midpoint=length//2\n",
        "half1=name[:midpoint]\n",
        "half2=name[midpoint:]\n",
        "if length%2==0:\n",
        "\n",
        "\n",
        "\n",
        "\n",
        "\n",
        "print(length)\n",
        "\n"
      ],
      "metadata": {
        "colab": {
          "base_uri": "https://localhost:8080/"
        },
        "id": "h-nuF9iuiQ8J",
        "outputId": "a024a0d4-db4b-4d5c-f985-b89dddb61a72"
      },
      "execution_count": 1,
      "outputs": [
        {
          "output_type": "stream",
          "name": "stdout",
          "text": [
            "Enter a string: hgyguu\n",
            "6\n"
          ]
        }
      ]
    }
  ]
}